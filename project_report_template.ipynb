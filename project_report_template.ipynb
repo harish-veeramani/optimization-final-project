{
 "cells": [
  {
   "cell_type": "markdown",
   "metadata": {},
   "source": [
    "### CS/ECE/ISyE 524 &mdash; Introduction to Optimization &mdash; Spring 2018 ###\n",
    "\n",
    "# Feed To Others What You Would Eat Yourself: Creating Affordable and Interesting Menus for All Americans #\n",
    "\n",
    "#### Anne Ulrich (aulrich3@wisc.edu) and Harish Veeramani (hveeramani@wisc.edu)\n",
    "\n",
    "*****\n",
    "\n",
    "### Table of Contents\n",
    "\n",
    "1. [Introduction](#1.-Introduction)\n",
    "1. [Mathematical Model](#2.-Mathematical-model)\n",
    "1. [Solution](#3.-Solution)\n",
    "1. [Results and Discussion](#4.-Results-and-discussion)\n",
    "  1. [Optional Subsection](#4.A.-Feel-free-to-add-subsections)\n",
    "1. [Conclusion](#5.-Conclusion)"
   ]
  },
  {
   "cell_type": "markdown",
   "metadata": {
    "collapsed": true
   },
   "source": [
    "## 1. Introduction ##\n",
    "\n",
    "Here in America, commentators have long noted the structural factors creating permanent communities of underprivileged citizens. In recent years, we’ve seen a particular focus on lack of access to critical health care and prevention resources, with legislative actions and nonprofit initiatives ranging from the Affordable Care Act to Michelle Obama’s Let’s Move! campaign to reduce childhood obesity. One emerging area of investigation revolves around communities’ access to a variety high-quality, healthy foods. In our project, we aim to quantify these access issues by consider the optimal diets that can be constructed from the selection available at a variety of local different stores. \n",
    "\n",
    "In constructing our project, we realized that access to healthy nutritional foods depends on a variety of issues. How far away is the grocery store from your house? Do you even have a way of getting to the nearest grocery store? How can you construct a varied diet from the food available to you? Is it better to shop at more than one store given the variation in cost between stores? We sought to answer these questions by improving on a well-known study from economic literature: the Stigler diet.\n",
    "\n",
    "George Stigler was an economist at Columbia University and the University of Chicago who revolutionized his field by quantitatively analyzing the impact of government economic regulations (previous economists’ analysis had focused on qualitative effects and theory). [1] In 1945, Stigler gathered data on a basic list of foods, nutrients, and prices, then played with the numbers to quantify the cheapest possible diet on the market. His work would inspire George Dantzig to develop the Simplex Algorithm just a few years later, one of the most efficient algorithms available today for solving general problems with linear constraint and objective functions. [2]\n",
    "\n",
    "Stigler’s diet provided a very good baseline for understanding the price associated with a barebones minimalist diet. However, he didn’t take into account that food has to be bought in unit quantities (he considered only how many nutrients were contained in one dollar’s worth of flour, for instance) and he didn’t consider several additional constraints, like travel time and expense, differing food price/availability by store, and age and gender concerns. In our project, we sought to address both of these issues to provide a more complete picture of modern Americans’ access to good, nutritious food.\n",
    "\n",
    "We got our nutrient data from the USDA’s Food Composition databases, available online. [3] We hypothesized different prices for different stores that varied based on season; we also created some estimate figures for gas prices and the like. In this report, we explain the theory behind the model in the Mathematical Model section and give the code we used in the code section. We discuss the key results immediately afterwards and provide some conclusions and directions for future study in the final section. We hope that this project will provide you the reader with a quantitative understanding of the tradeoffs between the best prices available and the time needed to travel to the stores that carry those best prices.\n",
    "\n",
    "[1] http://www.econlib.org/library/Enc/bios/Stigler.html \n",
    "[2] https://research.googleblog.com/2014/09/sudoku-linear-optimization-and-ten-cent.html and https://web.archive.org/web/20160411141356/https://dl.dropboxusercontent.com/u/5317066/1990-dantzig-dietproblem.pdf \n",
    "[3] https://ndb.nal.usda.gov/ndb/search/list"
   ]
  },
  {
   "cell_type": "markdown",
   "metadata": {
    "collapsed": true
   },
   "source": [
    "## 2. Mathematical model ##"
   ]
  },
  {
   "cell_type": "markdown",
   "metadata": {},
   "source": [
    "## General Assumptions\n",
    "\n",
    "- Food prices are stable throughout the year and are not affected by seasonal variation and availability.\n",
    "- \n",
    "\n",
    "#### Age Groups:\n",
    "\n",
    "#### Stores:\n",
    "\n",
    "#### Food costs:\n",
    "\n",
    "#### Travel distance:\n",
    "\n",
    "#### Travel cost:\n"
   ]
  },
  {
   "cell_type": "markdown",
   "metadata": {},
   "source": [
    "## Scenario 1\n",
    "$\\text{There will be only one source of food and only one age group (adult).}$ \n",
    "$\\text{Also, it is assumed that there is no additional cost in regards to transportation and that the climate remains constant.}$\n",
    "<br></br>\n",
    "\n",
    "\n",
    "$\\textbf{Parameter definitions:}$\n",
    "\n",
    "$F$ = number of foods  \n",
    "\n",
    "$N$ = number of nutrients  \n",
    "\n",
    "$f[i,j]$ = amount of nutrient *j* in food *i*  \n",
    "\n",
    "$n[i]$ = minimum daily requirement for nutrient *i*  \n",
    "\n",
    "$m[i]$ = maximum daily requirement for nutrient *i*  \n",
    "\n",
    "$o[i]$ = maximum food limit for food *i*\n",
    "\n",
    "$p[i]$ = price of food *i*\n",
    "\n",
    "<br></br>\n",
    "\n",
    "$\\textbf{Variable definitions:}$  \n",
    "\n",
    "$x[i]$ = number of units of food i purchased  \n",
    "<br></br>\n",
    "\n",
    "$\\textbf{Constraints:}$  \n",
    "##### 1. The amount of any given nutrient is greater than or equal to its lower limit and less than or equal to its upper limit.  \n",
    "$$ \\sum_{i=1}^{F} x[i]*f[i,j] \\leq m[j] \\text{, } \\forall j \\in N$$\n",
    "$$ \\sum_{i=1}^{F} x[i]*f[i,j] \\geq n[j] \\text{, } \\forall j \\in N$$  \n",
    "\n",
    "##### 2. The amount of food should not exceed its upper limit.  \n",
    "$$ x[i] \\leq o[i] \\text{, } \\forall i \\in F$$  \n",
    "\n",
    "$\\textbf{Objective:}$  \n",
    "The objective is to minimize the total cost of food purchased.\n",
    "$$ \\text{Min } \\sum_{i=1}^{F} x[i]*p[i] \\text{, } \\forall i \\in F$$  "
   ]
  },
  {
   "cell_type": "markdown",
   "metadata": {},
   "source": [
    "## Scenario 2\n",
    "$\\text{There will be multiple sources of food and three age groups, each with different nutrition requirements.}$ \n",
    "$\\text{Also, it is assumed that there is no additional cost in regards to transportation.}$\n",
    "<br></br>\n",
    "\n",
    "$\\textbf{*New* Parameter definitions (in addition to Scenario 1)}$\n",
    "\n",
    "$A$ = number of age groups\n",
    "\n",
    "$S$ = number of stores\n",
    "\n",
    "$T$ = number of food categories \n",
    "\n",
    "$\\textbf{*Updated* Parameter definitions (updated from Scenario 1)}$\n",
    "\n",
    "$p[i,j]$ = price of food *i* at store *j*  \n",
    "\n",
    "$n[i,a]$ = minimum daily requirement for nutrient *i* for age group *a*  \n",
    "\n",
    "$m[i,a]$ = maximum daily requirement for nutrient *i* for age group *a*\n",
    "\n",
    "<br></br>\n",
    "\n",
    "$\\textbf{Variable definitions: (updated from Scenario 1)}$  \n",
    "\n",
    "$x[i,j,a]$ = number of units of food *i* purchased from store *j* for age group *a*\n",
    "<br></br>\n",
    "\n",
    "$\\textbf{Constraints:}$  \n",
    "##### 1. (updated) The amount of any given nutrient is greater than or equal to its lower limit and less than or equal to its upper limit for each age group \n",
    "$$ \\sum_{i=1}^{F} x[i,j,a]*f[i,j] \\leq m[j,a] \\text{, } \\forall j \\in N \\text{, } \\forall a \\in A$$\n",
    "$$ \\sum_{i=1}^{F} x[i,j,a]*f[i,j] \\geq n[j,a] \\text{, } \\forall j \\in N \\text{, } \\forall a \\in A$$  \n",
    "\n",
    "##### 2.  (new) The amount from each food category is less than or equal to its upper limit and at least one.  FIX \n",
    "$$\\sum_{i=1}^{F} x[i] \\leq p[i]$$  \n",
    "\n",
    "$\\textbf{Objective:}$  \n",
    "The objective is to minimize the total cost of all food purchased from all stores.\n",
    "$$ \\text{Min } \\sum_{i=1}^{F} x[i,j,a]*p[i,j] \\text{, } \\forall j \\in S, \\forall a \\in A$$  "
   ]
  },
  {
   "cell_type": "markdown",
   "metadata": {},
   "source": [
    "### Scenario 3 ###\n",
    "\n",
    "This time, there is a travel cost associated with going to various locations as a tradeoff.  \n",
    "\n",
    "$\\textbf{*New* Parameter definitions (in addition to those from Scenario 2)}$\n",
    "\n",
    "$Sd[i,j]$ = distance from location i to location j (in miles)  \n",
    "\n",
    "$C$ = cost of gas per mile\n",
    "\n",
    "$o[i,j]$ = order of stores traveled (binary matrix)\n",
    "\n",
    "$\\textbf{Constraints:}$  \n",
    "- Add self-loop constraint\n",
    "- Add single in and out edge constraint\n",
    "\n",
    "$\\textbf{Objective:}$  \n",
    "$$ \\text{Min } \\sum_{a=1}^{A} \\sum_{i=1}^{F} \\sum_{j=1}^{F} x[i,j,a]*p[i,j] + \\sum_{k=1}^{S} \\sum_{l=1}^{S} o[k,l]*Sd[k,l]*C \\text{, }$$  "
   ]
  },
  {
   "cell_type": "markdown",
   "metadata": {
    "collapsed": true
   },
   "source": [
    "## 3. Solution ##"
   ]
  },
  {
   "cell_type": "markdown",
   "metadata": {},
   "source": [
    "### Spreadsheet Data"
   ]
  },
  {
   "cell_type": "code",
   "execution_count": 67,
   "metadata": {},
   "outputs": [],
   "source": [
    "raw_food = readcsv(\"data/food_nutrients.csv\")\n",
    "raw_constraints = readcsv(\"data/constraints.csv\")\n",
    "raw_distances = readcsv(\"data/distances.csv\")\n",
    "raw_prices = readcsv(\"data/food_price.csv\");"
   ]
  },
  {
   "cell_type": "markdown",
   "metadata": {},
   "source": [
    "### Scenario 1:"
   ]
  },
  {
   "cell_type": "code",
   "execution_count": 87,
   "metadata": {},
   "outputs": [
    {
     "name": "stdout",
     "output_type": "stream",
     "text": [
      "Any[\"\", \"\", \"Butter\", \"Cheddar Cheese\", \"Gouda Cheese\", \"Mozzarella Cheese\", \"Muenster Cheese\", \"Parmesan Cheese\", \"American Cheese\", \"Swiss Cheese\", \"Eggnog\", \"1% Milk\", \"Vanilla yogurt\", \"Egg\", \"Chobani vanilla Greek yogurt\", \"Allspice\", \"Cardamom\", \"Basil\", \"Cinnamon\", \"Coriander\", \"Garlic\", \"Nutmeg\", \"Paprika\", \"Parsley\", \"Black Pepper\", \"Rosemary\", \"Thyme\", \"Sage\", \"Salt\", \"Vinegar\", \"Vanilla\", \"Chicken\", \"Duck\", \"Turkey\", \"Apple babyfood\", \"Bananas babyfood\", \"Infant formula\", \"Thousand island salad dressing\", \"Italian dressing\", \"Mayo\", \"Olive oil\", \"Gravy\", \"Tomato bisque soup\", \"Clam chowder\", \"Pesto sauce\", \"Worcestershire sauce\", \"Chicken broth\", \"Cream of chicken soup\", \"Chicken noodle soup\", \"Sandwich ham\", \"Pastrami\", \"Sandwich salami\", \"Sandwich bologna\", \"Cheerios\", \"Fruit and cream oatmeal\", \"Dinosaur eggs oatmeal\", \"Apples\", \"Apricots\", \"Bananas\", \"Blackberries\", \"Avocadoes\", \"Blueberries\", \"Cherries\", \"Cranberries\", \"Grapes\", \"Kiwi\", \"Florida oranges\", \"Papayas\", \"Pears\", \"Plums\", \"Raisins\", \"Raspberries\", \"Strawberries\", \"Watermelon\", \"Pineapples\", \"Pork\", \"Canadian bacon\", \"Christmas ham\", \"Bacon\", \"Artichokes\", \"Asparagus\", \"Bamboo shoots\", \"Kidney beans\", \"Lima beans\", \"Navy beans\", \"Beets\", \"Raw broccoli\", \"Cooked broccoli\", \"Raw cabbage\", \"Raw carrots\", \"Cooked carrots\", \"Raw celery\", \"Sweet corn\", \"Cooked sweet corn\", \"Cucumber\", \"Garlic\", \"Kale\", \"Green leaf lettuce\", \"Mushrooms\", \"Raw okra\", \"Raw onions\", \"Fresh parsley\", \"Green peas\", \"Raw potatoes\", \"Pumpkin\", \"Radishes\", \"Rutabagas\", \"Sauerkraut\", \"Kelp seaweed\", \"Spinach\", \"Summer squash\", \"Zucchini\", \"Sweet potato\", \"Taro\", \"Tomatoes\", \"Turnips\", \"Potato pancakes\", \"Jalapeno peppers\", \"Banana peppers\", \"Almonds\", \"Cashews\", \"Macadamia nuts\", \"Pecans\", \"Pistachio nuts\", \"Walnuts\", \"Ground beef\", \"Beef steak\", \"Beef sausage\", \"Beer\", \"Bass fish\", \"Soy milk\", \"Carp fish\", \"Cod\", \"Salmon\", \"Baked beans\", \"Peanut butter\", \"Tofu\", \"Egg bagels\", \"Brown bread\", \"Banana bread\", \"Chocolate cake\", \"Chocolate chip cookies\", \"Cheese crackers\", \"Apple pie\", \"Cinnamon rolls\", \"Marshmallows\", \"Tapioca pudding\", \"Breyers ice cream\", \"60% dark chocolate\", \"White rice\", \"Whole grain wheat flour\", \"Egg noodles\", \"Plain pasta\", \"Hamburger\"]\n",
      "Any[\"Butter\" 1.13 1 2 3 1 2; \"Cheddar Cheese\" 2.27 1 2 3 1 2; \"Gouda Cheese\" \"\" 1 2 3 1 2; \"Mozzarella Cheese\" \"\" 1 2 3 1 2; \"Muenster Cheese\" \"\" 1 2 3 1 2; \"Parmesan Cheese\" \"\" 1 2 3 1 2; \"American Cheese\" \"\" 1 2 3 1 2; \"Swiss Cheese\" \"\" 1 2 3 1 2; \"Eggnog\" \"\" 1 2 3 1 2; \"1% Milk\" \"\" 1 2 3 1 2; \"Vanilla yogurt\" \"\" 1 2 3 1 2; \"Egg\" \"\" 1 2 3 1 2; \"Chobani vanilla Greek yogurt\" \"\" 1 2 3 1 2; \"Allspice\" \"\" 2 1 3 2 1; \"Cardamom\" \"\" 2 1 3 2 1; \"Basil\" \"\" 2 1 3 2 1; \"Cinnamon\" \"\" 2 1 3 2 1; \"Coriander\" \"\" 2 1 3 2 1; \"Garlic\" \"\" 2 1 3 2 1; \"Nutmeg\" \"\" 2 1 3 2 1; \"Paprika\" \"\" 2 1 3 2 1; \"Parsley\" \"\" 2 1 3 2 1; \"Black Pepper\" \"\" 2 1 3 2 1; \"Rosemary\" \"\" 2 1 3 2 1; \"Thyme\" \"\" 2 1 3 2 1; \"Sage\" \"\" 2 1 3 2 1; \"Salt\" \"\" 2 1 3 2 1; \"Vinegar\" \"\" 2 1 3 2 1; \"Vanilla\" \"\" 2 1 3 2 1; \"Chicken\" \"\" 4 6 7 4 6; \"Duck\" \"\" 4 6 7 4 6; \"Turkey\" \"\" 4 6 7 4 6; \"Apple babyfood\" \"\" 5 5 5 5 5; \"Bananas babyfood\" \"\" 5 5 5 5 5; \"Infant formula\" \"\" 5 5 5 5 5; \"Thousand island salad dressing\" \"\" 1 2 3 1 2; \"Italian dressing\" \"\" 1 2 3 1 2; \"Mayo\" \"\" 1 2 3 1 2; \"Olive oil\" \"\" 1 2 3 1 2; \"Gravy\" \"\" 1 2 3 1 2; \"Tomato bisque soup\" \"\" 1 2 3 1 2; \"Clam chowder\" \"\" 1 2 3 1 2; \"Pesto sauce\" \"\" 1 2 3 1 2; \"Worcestershire sauce\" \"\" 1 2 3 1 2; \"Chicken broth\" \"\" 1 2 3 1 2; \"Cream of chicken soup\" \"\" 1 2 3 1 2; \"Chicken noodle soup\" \"\" 1 2 3 1 2; \"Sandwich ham\" \"\" 4 6 7 4 6; \"Pastrami\" \"\" 4 6 7 4 6; \"Sandwich salami\" \"\" 4 6 7 4 6; \"Sandwich bologna\" \"\" 4 6 7 4 6; \"Cheerios\" \"\" 2 1 0.5 2 1; \"Fruit and cream oatmeal\" \"\" 2 1 0.5 2 1; \"Dinosaur eggs oatmeal\" \"\" 2 1 0.5 2 1; \"Apples\" \"\" 4 5 6 2 3; \"Apricots\" \"\" 4 5 6 2 3; \"Bananas\" \"\" 4 5 6 2 3; \"Blackberries\" \"\" 4 5 6 2 3; \"Avocadoes\" \"\" 4 5 6 2 3; \"Blueberries\" \"\" 4 5 6 2 3; \"Cherries\" \"\" 4 5 6 2 3; \"Cranberries\" \"\" 4 5 6 2 3; \"Grapes\" 4.53 4 5 6 2 3; \"Kiwi\" \"\" 4 5 6 2 3; \"Florida oranges\" \"\" 4 5 6 2 3; \"Papayas\" \"\" 4 5 6 2 3; \"Pears\" \"\" 4 5 6 2 3; \"Plums\" \"\" 4 5 6 2 3; \"Raisins\" \"\" 4 5 6 2 3; \"Raspberries\" \"\" 4 5 6 2 3; \"Strawberries\" \"\" 4 5 6 2 3; \"Watermelon\" \"\" 4 5 6 2 3; \"Pineapples\" \"\" 4 5 6 2 3; \"Pork\" \"\" 4 6 7 4 6; \"Canadian bacon\" \"\" 4 6 7 4 6; \"Christmas ham\" \"\" 4 6 7 4 6; \"Bacon\" \"\" 4 6 7 4 6; \"Artichokes\" \"\" 4 2 3 2 1; \"Asparagus\" \"\" 4 2 3 2 1; \"Bamboo shoots\" \"\" 4 2 3 2 1; \"Kidney beans\" \"\" 4 2 3 2 1; \"Lima beans\" \"\" 4 2 3 2 1; \"Navy beans\" \"\" 4 2 3 2 1; \"Beets\" \"\" 4 2 3 2 1; \"Raw broccoli\" \"\" 4 2 3 2 1; \"Cooked broccoli\" \"\" 4 2 3 2 1; \"Raw cabbage\" \"\" 4 2 3 2 1; \"Raw carrots\" \"\" 4 2 3 2 1; \"Cooked carrots\" \"\" 4 2 3 2 1; \"Raw celery\" \"\" 4 2 3 2 1; \"Sweet corn\" 1.43 4 2 3 2 1; \"Cooked sweet corn\" \"\" 4 2 3 2 1; \"Cucumber\" 2.01 4 2 3 2 1; \"Garlic\" \"\" 4 2 3 2 1; \"Kale\" \"\" 4 2 3 2 1; \"Green leaf lettuce\" \"\" 4 2 3 2 1; \"Mushrooms\" \"\" 4 2 3 2 1; \"Raw okra\" \"\" 4 2 3 2 1; \"Raw onions\" \"\" 4 2 3 2 1; \"Fresh parsley\" \"\" 4 2 3 2 1; \"Green peas\" \"\" 4 2 3 2 1; \"Raw potatoes\" \"\" 4 2 3 2 1; \"Pumpkin\" \"\" 4 2 3 2 1; \"Radishes\" \"\" 4 2 3 2 1; \"Rutabagas\" \"\" 4 2 3 2 1; \"Sauerkraut\" \"\" 4 2 3 2 1; \"Kelp seaweed\" \"\" 4 2 3 2 1; \"Spinach\" \"\" 4 2 3 2 1; \"Summer squash\" \"\" 4 2 3 2 1; \"Zucchini\" \"\" 4 2 3 2 1; \"Sweet potato\" \"\" 4 2 3 2 1; \"Taro\" \"\" 4 2 3 2 1; \"Tomatoes\" \"\" 4 2 3 2 1; \"Turnips\" \"\" 4 2 3 2 1; \"Potato pancakes\" \"\" 4 2 3 2 1; \"Jalapeno peppers\" \"\" 4 2 3 2 1; \"Banana peppers\" \"\" 4 2 3 2 1; \"Almonds\" \"\" 1 0.5 0.25 1 0.5; \"Cashews\" \"\" 1 0.5 0.25 1 0.5; \"Macadamia nuts\" \"\" 1 0.5 0.25 1 0.5; \"Pecans\" \"\" 1 0.5 0.25 1 0.5; \"Pistachio nuts\" \"\" 1 0.5 0.25 1 0.5; \"Walnuts\" \"\" 1 0.5 0.25 1 0.5; \"Ground beef\" \"\" 1 0.5 0.25 1 0.5; \"Beef steak\" \"\" 4 6 7 4 6; \"Beef sausage\" \"\" 4 6 7 4 6; \"Beer\" \"\" 2 3 4 2 3; \"Bass fish\" \"\" 4 6 7 4 6; \"Soy milk\" \"\" 4 6 7 4 6; \"Carp fish\" \"\" 4 6 7 4 6; \"Cod\" \"\" 4 6 7 4 6; \"Salmon\" \"\" 4 6 7 4 6; \"Baked beans\" \"\" 4 2 3 2 1; \"Peanut butter\" \"\" 1 0.5 0.25 1 0.5; \"Tofu\" \"\" 4 2 3 2 1; \"Egg bagels\" \"\" 2 1 0.5 2 1; \"Brown bread\" \"\" 2 1 0.5 2 1; \"Banana bread\" \"\" 2 1 0.5 2 1; \"Chocolate cake\" \"\" 3 5 7 3 5; \"Chocolate chip cookies\" \"\" 3 5 7 3 5; \"Cheese crackers\" \"\" 2 1 0.5 2 1; \"Apple pie\" \"\" 3 5 7 3 5; \"Cinnamon rolls\" \"\" 3 5 7 3 5; \"Marshmallows\" \"\" 3 5 7 3 5; \"Tapioca pudding\" \"\" 3 5 7 3 5; \"Breyers ice cream\" \"\" 3 5 7 3 5; \"60% dark chocolate\" \"\" 3 5 7 3 5; \"White rice\" \"\" 2 1 0.5 2 1; \"Whole grain wheat flour\" \"\" 2 1 0.5 2 1; \"Egg noodles\" \"\" 2 1 0.5 2 1; \"Plain pasta\" \"\" 2 1 0.5 2 1; \"Hamburger\" \"\" 4 6 7 4 6]\n"
     ]
    },
    {
     "ename": "LoadError",
     "evalue": "\u001b[91mMethodError: no method matching NamedArrays.NamedArray(::Float64, ::Tuple{Array{Any,1},Array{Any,1}}, ::Tuple{String,String})\u001b[0m\nClosest candidates are:\n  NamedArrays.NamedArray(\u001b[91m::AbstractArray{T,N}\u001b[39m, ::Tuple{Vararg{Array{T,1} where T,N}}, ::Tuple{Vararg{Any,N}}) where {T, N} at C:\\Users\\Galadriel\\.julia\\v0.6\\NamedArrays\\src\\constructors.jl:33\n  NamedArrays.NamedArray(\u001b[91m::AbstractArray{T,N}\u001b[39m, \u001b[91m::Tuple{}\u001b[39m, ::Tuple{Vararg{Any,N}}) where {T, N} at C:\\Users\\Galadriel\\.julia\\v0.6\\NamedArrays\\src\\constructors.jl:22\n  NamedArrays.NamedArray(\u001b[91m::AbstractArray{T,N}\u001b[39m, \u001b[91m::Tuple{Vararg{DataStructures.OrderedDict,N}}\u001b[39m, ::Tuple{Vararg{Any,N}}) where {S<:NamedArrays.NamedArray, T, N} at C:\\Users\\Galadriel\\.julia\\v0.6\\NamedArrays\\src\\namedarraytypes.jl:21\n  ...\u001b[39m",
     "output_type": "error",
     "traceback": [
      "\u001b[91mMethodError: no method matching NamedArrays.NamedArray(::Float64, ::Tuple{Array{Any,1},Array{Any,1}}, ::Tuple{String,String})\u001b[0m\nClosest candidates are:\n  NamedArrays.NamedArray(\u001b[91m::AbstractArray{T,N}\u001b[39m, ::Tuple{Vararg{Array{T,1} where T,N}}, ::Tuple{Vararg{Any,N}}) where {T, N} at C:\\Users\\Galadriel\\.julia\\v0.6\\NamedArrays\\src\\constructors.jl:33\n  NamedArrays.NamedArray(\u001b[91m::AbstractArray{T,N}\u001b[39m, \u001b[91m::Tuple{}\u001b[39m, ::Tuple{Vararg{Any,N}}) where {T, N} at C:\\Users\\Galadriel\\.julia\\v0.6\\NamedArrays\\src\\constructors.jl:22\n  NamedArrays.NamedArray(\u001b[91m::AbstractArray{T,N}\u001b[39m, \u001b[91m::Tuple{Vararg{DataStructures.OrderedDict,N}}\u001b[39m, ::Tuple{Vararg{Any,N}}) where {S<:NamedArrays.NamedArray, T, N} at C:\\Users\\Galadriel\\.julia\\v0.6\\NamedArrays\\src\\namedarraytypes.jl:21\n  ...\u001b[39m",
      "",
      "Stacktrace:",
      " [1] \u001b[1minclude_string\u001b[22m\u001b[22m\u001b[1m(\u001b[22m\u001b[22m::String, ::String\u001b[1m)\u001b[22m\u001b[22m at \u001b[1m.\\loading.jl:522\u001b[22m\u001b[22m"
     ]
    }
   ],
   "source": [
    "using JuMP, Cbc, NamedArrays\n",
    "\n",
    "(m,n) = size(raw_food)\n",
    "\n",
    "###Data\n",
    "num_nutrients = 17 #2:n-1\n",
    "num_foods = 152 #17:m\n",
    "food_categories = [:vegetables, :fruits, :grains, :meats, :dairy]\n",
    "\n",
    "#This code converts the raw data from the spreadsheets into something that the Julia optimization model can use.\n",
    "#First we need to get lists of available nutrients and foods.\n",
    "nutrients = raw_food[1,:]  # the list of nutrients (convert to 1-D array)\n",
    "foods = raw_food[:,1]            # the list of foods (convert to 1-D array)\n",
    "#Here are the minimal and maximal amounts of nutrients associated with each age group.\n",
    "child_minima = raw_constraints[4,:]\n",
    "child_minima[2] = 1600\n",
    "#println(child_minima)\n",
    "child_maxima = raw_constraints[5,:]\n",
    "child_maxima[2] = 1600\n",
    "#println(child_maxima)\n",
    "teen_minima = raw_constraints[7,:]\n",
    "teen_minima[2] = 2400\n",
    "#println(teen_minima)\n",
    "teen_maxima = raw_constraints[8,:]\n",
    "teen_maxima[2] = 2800\n",
    "#println(teen_maxima)\n",
    "adult_minima = raw_constraints[10,:]\n",
    "adult_minima[2] = 2500\n",
    "#println(adult_minima)\n",
    "adult_maxima = raw_constraints[11,:]\n",
    "adult_maxima[2] = 2500\n",
    "#println(adult_maxima)\n",
    "\n",
    "#Finally we need to interpret the food pricing data coming from the raw spreadsheet\n",
    "println(foods)\n",
    "\n",
    "#print(raw_prices[:,3:8])\n",
    "foods_a = raw_food[3:154,1]\n",
    "food_prices = hcat(foods_a,raw_prices[2:153,3:8])\n",
    "println(food_prices)\n",
    "\n",
    "max_quant = 10 #TODO: ADD TO SPREADSHEET\n",
    "food_nutrients = NamedArray(raw_food[num_foods,num_nutrients], (foods,nutrients), (\"foods\",\"nutrients\"));\n",
    "food_prices = Array{Int64}(5) #Dict(zip[foods,raw_food[]]) #not added to spreadsheet yet\n",
    "\n",
    "m = Model(solver=CbcSolver())\n",
    "\n",
    "##Decision variable\n",
    "@variable(m, food[1:num_food])\n",
    "\n",
    "##Constraints\n",
    "\n",
    "#Min/Max nutrients\n",
    "@constraint(m, min_nutrient[j in 1:num_nutrients], sum(food[i] * food_nutrients[i,j] for i in 1:num_foods) >= min_req[j])\n",
    "@constraint(m, max_nutrient[j in 1:num_nutrients], sum(food[i] * food_nutrients[i,j] for i in 1:num_foods) <= max_req[j])\n",
    "\n",
    "#Max food amount\n",
    "@constraint(m, max_food[i in 1:num_foods], sum(food[i] * max_quant[i]))\n",
    "\n",
    "#Sum of each food category must be at least 1\n",
    "#TODO\n",
    "\n",
    "##Objective\n",
    "@objective(m, Min, sum[food[i] * food_prices[i] for i in 1:num_foods])\n",
    "solve(m)"
   ]
  },
  {
   "cell_type": "markdown",
   "metadata": {},
   "source": [
    "### Scenario 2"
   ]
  },
  {
   "cell_type": "code",
   "execution_count": null,
   "metadata": {},
   "outputs": [],
   "source": [
    "using JuMP, Cbc, NamedArrays\n",
    "\n",
    "(m,n) = size(raw_food)\n",
    "\n",
    "###Data\n",
    "num_nutrients = 17 #2:n-1\n",
    "num_foods = 152 #17:m\n",
    "food_categories = [:vegetables, :fruits, :grains, :meats, :dairy]\n",
    "\n",
    "\n",
    "nutrients = raw_food[1,num_nutrients][:]   # the list of nutrients (convert to 1-D array)\n",
    "foods = raw_food[num_foods,1][:]             # the list of foods (convert to 1-D array)\n",
    "#min_req = Dict(zip(nutrients,raw[10,num_nutrients]))\n",
    "#max_req = Dict(zip(nutrients,raw[11,num_nutrients]))\n",
    "max_quant = 10 #TODO: ADD TO SPREADSHEET\n",
    "food_nutrients = NamedArray(raw_food[num_foods,num_nutrients], (foods,nutrients), (\"foods\",\"nutrients\"));\n",
    "food_prices = Array{Int64}(5) #Dict(zip[foods,raw_food[]]) #not added to spreadsheet yet\n",
    "\n",
    "m = Model(solver=CbcSolver())\n",
    "\n",
    "##Decision varaible\n",
    "@variable(m, food[1:num_food])\n",
    "\n",
    "##Constraints\n",
    "\n",
    "#Min/Max nutrients\n",
    "@constraint(m, min_nutrient[j in 1:num_nutrients], sum(food[i] * food_nutrients[i,j] for i in 1:num_foods) >= min_req[j])\n",
    "@constraint(m, max_nutrient[j in 1:num_nutrients], sum(food[i] * food_nutrients[i,j] for i in 1:num_foods) <= max_req[j])\n",
    "\n",
    "#Max food amount\n",
    "@constraint(m, max_food[i in 1:num_foods], sum(food[i] * max_quant[i]))\n",
    "\n",
    "#Sum of each food category must be at least 1\n",
    "#TODO\n",
    "\n",
    "##Objective\n",
    "@objective(m, Min, sum[food[i] * food_prices[i] for i in 1:num_foods])\n",
    "solve(m)"
   ]
  },
  {
   "cell_type": "markdown",
   "metadata": {},
   "source": [
    "### Scenario 3 (Full Model)"
   ]
  },
  {
   "cell_type": "code",
   "execution_count": null,
   "metadata": {},
   "outputs": [],
   "source": [
    "using JuMP, Cbc\n",
    "\n",
    "raw = readcsv(\"food_data.csv\")\n",
    "(m,n) = size(raw)\n",
    "\n",
    "###Data\n",
    "num_nutrients = 2:n\n",
    "num_food = 17:m \n",
    "food_categories = [:vegetables, :fruits, :grains, :meats, :dairy]\n",
    "age_groups = [:child, :teenager, :adult]\n",
    "locations = #add locations\n",
    "gas = 3\n",
    "\n",
    "nutrients = raw[1,num_nutrients][:]   # the list of nutrients (convert to 1-D array)\n",
    "foods = raw[num_foods,1][:]             # the list of foods (convert to 1-D array)\n",
    "min_req = Dict(zip(nutrients,raw[10,num_nutrients]))\n",
    "max_req = Dict(zip(nutrients,raw[11,num_nutrients]))\n",
    "max_quant = #not added to spreadsheet yet\n",
    "food_nutrients = NamedArray(raw[num_food,num_nutrient], (foods,nutrients), (\"foods\",\"nutrients\"));\n",
    "food_prices = #not added to spreadsheet yet\n",
    "distances = #no data yet\n",
    "\n",
    "\n",
    "m = Model(solver=CbcSolver())\n",
    "\n",
    "##Decision varaible\n",
    "@variable(m, food[1:num_food])\n",
    "@variable(m, path[i in locations, j in locations])\n",
    "\n",
    "##Constraints\n",
    "\n",
    "#Min/Max nutrients\n",
    "@constraint(m, min_nutrient[j in 1:num_nutrients], sum(food[i] * food_nutrients[i,j] for i in 1:num_foods) >= min_req[j])\n",
    "@constraint(m, max_nutrient[j in 1:num_nutrients], sum(food[i] * food_nutrients[i,j] for i in 1:num_foods) <= max_req[j])\n",
    "\n",
    "#Max food amount\n",
    "@constraint(m, max_food[i in 1:num_foods], sum(food[i] * max_quant[i]))\n",
    "\n",
    "#Sum of each food category must be at least 1\n",
    "#TODO\n",
    "\n",
    "##Objective\n",
    "@objective(m, Min, sum[food[i] * food_prices[i] for i in 1:num_foods] + sum(path[k,l] * distances[k,l] * gas for k in 1 in locations, l in locations))\n",
    "solve(m)"
   ]
  },
  {
   "cell_type": "markdown",
   "metadata": {},
   "source": [
    "Remember to make sure your code compiles! I will be running your code!"
   ]
  },
  {
   "cell_type": "markdown",
   "metadata": {
    "collapsed": true
   },
   "source": [
    "## 4. Results and discussion ##\n",
    "\n",
    "Here, you display and discuss the results. Show figures, plots, images, trade-off curves, or whatever else you can think of to best illustrate your results. The discussion should explain what the results mean, and how to interpret them. You should also explain the limitations of your approach/model and how sensitive your results are to the assumptions you made.\n",
    "\n",
    "Use plots (see `PyPlot` examples from class), or you can display results in a table like this:\n",
    "\n",
    "| Tables        | Are           | Cool  |\n",
    "| ------------- |:-------------:| -----:|\n",
    "| col 3 is      | right-aligned |\\$1600 |\n",
    "| col 2 is      | centered      |  \\$12 |\n",
    "| zebra stripes | are neat      |   \\$1 |\n",
    "\n",
    "### 4.A. Feel free to add subsections\n",
    "\n",
    "#### 4.A.a. or subsubsections"
   ]
  },
  {
   "cell_type": "markdown",
   "metadata": {
    "collapsed": true
   },
   "source": [
    "## 5. Conclusion ##\n",
    "\n",
    "Summarize your findings and your results, and talk about at least one possible future direction; something that might be interesting to pursue as a follow-up to your project."
   ]
  },
  {
   "cell_type": "markdown",
   "metadata": {
    "collapsed": true
   },
   "source": [
    "### TODO:\n",
    "   - Price scaling factor\n",
    "   - Add taste factor?\n",
    "\n",
    "Annie\n",
    "   - Add words for data section\n",
    "   - Add max quantity constraint data to spreadsheet\n",
    "   \n",
    "Harish\n",
    "   - Code out three models\n",
    "   - Update math models for three scenarios\n",
    "   \n",
    "Idea?\n",
    "   - Scenario 4: taste factor\n",
    "   \n",
    "   \n",
    "Section 4:\n",
    "- Pareto curve"
   ]
  },
  {
   "cell_type": "code",
   "execution_count": null,
   "metadata": {},
   "outputs": [],
   "source": []
  }
 ],
 "metadata": {
  "kernelspec": {
   "display_name": "Julia 0.6.2",
   "language": "julia",
   "name": "julia-0.6"
  },
  "language_info": {
   "file_extension": ".jl",
   "mimetype": "application/julia",
   "name": "julia",
   "version": "0.6.2"
  }
 },
 "nbformat": 4,
 "nbformat_minor": 1
}
